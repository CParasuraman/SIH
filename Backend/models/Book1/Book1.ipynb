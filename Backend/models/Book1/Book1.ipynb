{
 "cells": [
  {
   "cell_type": "code",
   "execution_count": 1,
   "id": "f1a83d41",
   "metadata": {},
   "outputs": [
    {
     "name": "stdout",
     "output_type": "stream",
     "text": [
      "Requirement already satisfied: pandas in c:\\users\\prash\\appdata\\local\\programs\\python\\python310\\lib\\site-packages (2.2.3)\n"
     ]
    },
    {
     "name": "stderr",
     "output_type": "stream",
     "text": [
      "ERROR: Could not find a version that satisfies the requirement as (from versions: none)\n",
      "ERROR: No matching distribution found for as\n",
      "WARNING: You are using pip version 21.2.3; however, version 25.2 is available.\n",
      "You should consider upgrading via the 'C:\\Users\\prash\\AppData\\Local\\Programs\\Python\\Python310\\python.exe -m pip install --upgrade pip' command.\n"
     ]
    },
    {
     "name": "stdout",
     "output_type": "stream",
     "text": [
      "Requirement already satisfied: numpy in c:\\users\\prash\\appdata\\local\\programs\\python\\python310\\lib\\site-packages (2.1.3)\n"
     ]
    },
    {
     "name": "stderr",
     "output_type": "stream",
     "text": [
      "ERROR: Could not find a version that satisfies the requirement as (from versions: none)\n",
      "ERROR: No matching distribution found for as\n",
      "WARNING: You are using pip version 21.2.3; however, version 25.2 is available.\n",
      "You should consider upgrading via the 'C:\\Users\\prash\\AppData\\Local\\Programs\\Python\\Python310\\python.exe -m pip install --upgrade pip' command.\n",
      "ERROR: Could not find a version that satisfies the requirement re (from versions: none)\n",
      "ERROR: No matching distribution found for re\n",
      "WARNING: You are using pip version 21.2.3; however, version 25.2 is available.\n",
      "You should consider upgrading via the 'C:\\Users\\prash\\AppData\\Local\\Programs\\Python\\Python310\\python.exe -m pip install --upgrade pip' command.\n",
      "ERROR: Could not find a version that satisfies the requirement json (from versions: none)\n",
      "ERROR: No matching distribution found for json\n",
      "WARNING: You are using pip version 21.2.3; however, version 25.2 is available.\n",
      "You should consider upgrading via the 'C:\\Users\\prash\\AppData\\Local\\Programs\\Python\\Python310\\python.exe -m pip install --upgrade pip' command.\n",
      "ERROR: Could not find a version that satisfies the requirement os (from versions: none)\n",
      "ERROR: No matching distribution found for os\n",
      "WARNING: You are using pip version 21.2.3; however, version 25.2 is available.\n",
      "You should consider upgrading via the 'C:\\Users\\prash\\AppData\\Local\\Programs\\Python\\Python310\\python.exe -m pip install --upgrade pip' command.\n"
     ]
    }
   ],
   "source": [
    "!pip install pandas as pd\n",
    "!pip install numpy as np\n",
    "!pip install re\n",
    "!pip install json\n",
    "!pip install os"
   ]
  },
  {
   "cell_type": "code",
   "execution_count": 2,
   "id": "4a316d45",
   "metadata": {},
   "outputs": [
    {
     "name": "stdout",
     "output_type": "stream",
     "text": [
      "Collecting chromadb\n",
      "  Downloading chromadb-1.1.0-cp39-abi3-win_amd64.whl (19.8 MB)\n",
      "Requirement already satisfied: tqdm>=4.65.0 in c:\\users\\prash\\appdata\\local\\programs\\python\\python310\\lib\\site-packages (from chromadb) (4.67.1)\n",
      "Collecting posthog<6.0.0,>=2.4.0\n",
      "  Downloading posthog-5.4.0-py3-none-any.whl (105 kB)\n",
      "Collecting uvicorn[standard]>=0.18.3\n",
      "  Downloading uvicorn-0.36.0-py3-none-any.whl (67 kB)\n",
      "Collecting importlib-resources\n",
      "  Downloading importlib_resources-6.5.2-py3-none-any.whl (37 kB)\n",
      "Requirement already satisfied: pyyaml>=6.0.0 in c:\\users\\prash\\appdata\\local\\programs\\python\\python310\\lib\\site-packages (from chromadb) (6.0.2)\n",
      "Collecting onnxruntime>=1.14.1\n",
      "  Downloading onnxruntime-1.22.1-cp310-cp310-win_amd64.whl (12.7 MB)\n",
      "Collecting build>=1.0.3\n",
      "  Downloading build-1.3.0-py3-none-any.whl (23 kB)\n",
      "Collecting opentelemetry-api>=1.2.0\n",
      "  Downloading opentelemetry_api-1.37.0-py3-none-any.whl (65 kB)\n",
      "Collecting bcrypt>=4.0.1\n",
      "  Downloading bcrypt-4.3.0-cp39-abi3-win_amd64.whl (152 kB)\n",
      "Collecting tenacity>=8.2.3\n",
      "  Downloading tenacity-9.1.2-py3-none-any.whl (28 kB)\n",
      "Requirement already satisfied: numpy>=1.22.5 in c:\\users\\prash\\appdata\\local\\programs\\python\\python310\\lib\\site-packages (from chromadb) (2.1.3)\n",
      "Collecting orjson>=3.9.12\n",
      "  Downloading orjson-3.11.3-cp310-cp310-win_amd64.whl (131 kB)\n",
      "Requirement already satisfied: typing-extensions>=4.5.0 in c:\\users\\prash\\appdata\\local\\programs\\python\\python310\\lib\\site-packages (from chromadb) (4.13.1)\n",
      "Requirement already satisfied: grpcio>=1.58.0 in c:\\users\\prash\\appdata\\local\\programs\\python\\python310\\lib\\site-packages (from chromadb) (1.71.0)\n",
      "Collecting overrides>=7.3.1\n",
      "  Downloading overrides-7.7.0-py3-none-any.whl (17 kB)\n",
      "Collecting pydantic>=1.9\n",
      "  Downloading pydantic-2.11.9-py3-none-any.whl (444 kB)\n",
      "Collecting typer>=0.9.0\n",
      "  Downloading typer-0.19.1-py3-none-any.whl (46 kB)\n",
      "Collecting kubernetes>=28.1.0\n",
      "  Downloading kubernetes-33.1.0-py2.py3-none-any.whl (1.9 MB)\n",
      "Collecting mmh3>=4.0.1\n",
      "  Downloading mmh3-5.2.0-cp310-cp310-win_amd64.whl (41 kB)\n",
      "Collecting jsonschema>=4.19.0\n",
      "  Downloading jsonschema-4.25.1-py3-none-any.whl (90 kB)\n",
      "Requirement already satisfied: tokenizers>=0.13.2 in c:\\users\\prash\\appdata\\local\\programs\\python\\python310\\lib\\site-packages (from chromadb) (0.21.1)\n",
      "Requirement already satisfied: rich>=10.11.0 in c:\\users\\prash\\appdata\\local\\programs\\python\\python310\\lib\\site-packages (from chromadb) (14.0.0)\n",
      "Collecting pypika>=0.48.9\n",
      "  Downloading PyPika-0.48.9.tar.gz (67 kB)\n",
      "  Installing build dependencies: started\n",
      "  Installing build dependencies: finished with status 'done'\n",
      "  Getting requirements to build wheel: started\n",
      "  Getting requirements to build wheel: finished with status 'done'\n",
      "    Preparing wheel metadata: started\n",
      "    Preparing wheel metadata: finished with status 'done'\n",
      "Collecting opentelemetry-sdk>=1.2.0\n",
      "  Downloading opentelemetry_sdk-1.37.0-py3-none-any.whl (131 kB)\n",
      "Collecting httpx>=0.27.0\n",
      "  Using cached httpx-0.28.1-py3-none-any.whl (73 kB)\n",
      "Collecting pybase64>=1.4.1\n",
      "  Downloading pybase64-1.4.2-cp310-cp310-win_amd64.whl (35 kB)\n",
      "Collecting opentelemetry-exporter-otlp-proto-grpc>=1.2.0\n",
      "  Downloading opentelemetry_exporter_otlp_proto_grpc-1.37.0-py3-none-any.whl (19 kB)\n",
      "Collecting importlib-metadata>=4.6\n",
      "  Using cached importlib_metadata-8.7.0-py3-none-any.whl (27 kB)\n",
      "Collecting tomli>=1.1.0\n",
      "  Using cached tomli-2.2.1-py3-none-any.whl (14 kB)\n",
      "Collecting pyproject_hooks\n",
      "  Using cached pyproject_hooks-1.2.0-py3-none-any.whl (10 kB)\n",
      "Requirement already satisfied: packaging>=19.1 in c:\\users\\prash\\appdata\\local\\programs\\python\\python310\\lib\\site-packages (from build>=1.0.3->chromadb) (24.2)\n",
      "Requirement already satisfied: colorama in c:\\users\\prash\\appdata\\local\\programs\\python\\python310\\lib\\site-packages (from build>=1.0.3->chromadb) (0.4.6)\n",
      "Collecting httpcore==1.*\n",
      "  Using cached httpcore-1.0.9-py3-none-any.whl (78 kB)\n",
      "Requirement already satisfied: idna in c:\\users\\prash\\appdata\\local\\programs\\python\\python310\\lib\\site-packages (from httpx>=0.27.0->chromadb) (3.10)\n",
      "Collecting anyio\n",
      "  Downloading anyio-4.10.0-py3-none-any.whl (107 kB)\n",
      "Requirement already satisfied: certifi in c:\\users\\prash\\appdata\\local\\programs\\python\\python310\\lib\\site-packages (from httpx>=0.27.0->chromadb) (2025.1.31)\n",
      "Collecting h11>=0.16\n",
      "  Using cached h11-0.16.0-py3-none-any.whl (37 kB)\n",
      "Collecting zipp>=3.20\n",
      "  Using cached zipp-3.23.0-py3-none-any.whl (10 kB)\n",
      "Collecting rpds-py>=0.7.1\n",
      "  Downloading rpds_py-0.27.1-cp310-cp310-win_amd64.whl (228 kB)\n",
      "Collecting jsonschema-specifications>=2023.03.6\n",
      "  Downloading jsonschema_specifications-2025.9.1-py3-none-any.whl (18 kB)\n",
      "Collecting referencing>=0.28.4\n",
      "  Downloading referencing-0.36.2-py3-none-any.whl (26 kB)\n",
      "Requirement already satisfied: attrs>=22.2.0 in c:\\users\\prash\\appdata\\local\\programs\\python\\python310\\lib\\site-packages (from jsonschema>=4.19.0->chromadb) (25.3.0)\n",
      "Collecting durationpy>=0.7\n",
      "  Downloading durationpy-0.10-py3-none-any.whl (3.9 kB)\n",
      "Collecting requests-oauthlib\n",
      "  Downloading requests_oauthlib-2.0.0-py2.py3-none-any.whl (24 kB)\n",
      "Requirement already satisfied: python-dateutil>=2.5.3 in c:\\users\\prash\\appdata\\local\\programs\\python\\python310\\lib\\site-packages (from kubernetes>=28.1.0->chromadb) (2.9.0.post0)\n",
      "Collecting websocket-client!=0.40.0,!=0.41.*,!=0.42.*,>=0.32.0\n",
      "  Downloading websocket_client-1.8.0-py3-none-any.whl (58 kB)\n",
      "Requirement already satisfied: six>=1.9.0 in c:\\users\\prash\\appdata\\local\\programs\\python\\python310\\lib\\site-packages (from kubernetes>=28.1.0->chromadb) (1.17.0)\n",
      "Requirement already satisfied: requests in c:\\users\\prash\\appdata\\local\\programs\\python\\python310\\lib\\site-packages (from kubernetes>=28.1.0->chromadb) (2.32.3)\n",
      "Collecting oauthlib>=3.2.2\n",
      "  Downloading oauthlib-3.3.1-py3-none-any.whl (160 kB)\n",
      "Requirement already satisfied: urllib3>=1.24.2 in c:\\users\\prash\\appdata\\local\\programs\\python\\python310\\lib\\site-packages (from kubernetes>=28.1.0->chromadb) (2.3.0)\n",
      "Collecting google-auth>=1.0.1\n",
      "  Downloading google_auth-2.40.3-py2.py3-none-any.whl (216 kB)\n",
      "Collecting cachetools<6.0,>=2.0.0\n",
      "  Downloading cachetools-5.5.2-py3-none-any.whl (10 kB)\n",
      "Collecting pyasn1-modules>=0.2.1\n",
      "  Downloading pyasn1_modules-0.4.2-py3-none-any.whl (181 kB)\n",
      "Collecting rsa<5,>=3.1.4\n",
      "  Downloading rsa-4.9.1-py3-none-any.whl (34 kB)\n",
      "Requirement already satisfied: protobuf in c:\\users\\prash\\appdata\\local\\programs\\python\\python310\\lib\\site-packages (from onnxruntime>=1.14.1->chromadb) (5.29.4)\n",
      "Collecting coloredlogs\n",
      "  Downloading coloredlogs-15.0.1-py2.py3-none-any.whl (46 kB)\n",
      "Requirement already satisfied: flatbuffers in c:\\users\\prash\\appdata\\local\\programs\\python\\python310\\lib\\site-packages (from onnxruntime>=1.14.1->chromadb) (25.2.10)\n",
      "Requirement already satisfied: sympy in c:\\users\\prash\\appdata\\local\\programs\\python\\python310\\lib\\site-packages (from onnxruntime>=1.14.1->chromadb) (1.13.1)\n",
      "Collecting opentelemetry-exporter-otlp-proto-common==1.37.0\n",
      "  Downloading opentelemetry_exporter_otlp_proto_common-1.37.0-py3-none-any.whl (18 kB)\n",
      "Collecting googleapis-common-protos~=1.57\n",
      "  Downloading googleapis_common_protos-1.70.0-py3-none-any.whl (294 kB)\n",
      "Collecting opentelemetry-proto==1.37.0\n",
      "  Downloading opentelemetry_proto-1.37.0-py3-none-any.whl (72 kB)\n",
      "Collecting opentelemetry-semantic-conventions==0.58b0\n",
      "  Downloading opentelemetry_semantic_conventions-0.58b0-py3-none-any.whl (207 kB)\n",
      "Requirement already satisfied: backoff>=1.10.0 in c:\\users\\prash\\appdata\\local\\programs\\python\\python310\\lib\\site-packages (from posthog<6.0.0,>=2.4.0->chromadb) (1.11.1)\n",
      "Collecting distro>=1.5.0\n",
      "  Downloading distro-1.9.0-py3-none-any.whl (20 kB)\n",
      "Collecting pyasn1<0.7.0,>=0.6.1\n",
      "  Downloading pyasn1-0.6.1-py3-none-any.whl (83 kB)\n",
      "Collecting annotated-types>=0.6.0\n",
      "  Downloading annotated_types-0.7.0-py3-none-any.whl (13 kB)\n",
      "Collecting typing-inspection>=0.4.0\n",
      "  Downloading typing_inspection-0.4.1-py3-none-any.whl (14 kB)\n",
      "Collecting pydantic-core==2.33.2\n",
      "  Downloading pydantic_core-2.33.2-cp310-cp310-win_amd64.whl (2.0 MB)\n",
      "Requirement already satisfied: charset-normalizer<4,>=2 in c:\\users\\prash\\appdata\\local\\programs\\python\\python310\\lib\\site-packages (from requests->kubernetes>=28.1.0->chromadb) (3.4.1)\n",
      "Requirement already satisfied: markdown-it-py>=2.2.0 in c:\\users\\prash\\appdata\\local\\programs\\python\\python310\\lib\\site-packages (from rich>=10.11.0->chromadb) (3.0.0)\n",
      "Requirement already satisfied: pygments<3.0.0,>=2.13.0 in c:\\users\\prash\\appdata\\local\\programs\\python\\python310\\lib\\site-packages (from rich>=10.11.0->chromadb) (2.19.1)\n",
      "Requirement already satisfied: mdurl~=0.1 in c:\\users\\prash\\appdata\\local\\programs\\python\\python310\\lib\\site-packages (from markdown-it-py>=2.2.0->rich>=10.11.0->chromadb) (0.1.2)\n",
      "Requirement already satisfied: huggingface-hub<1.0,>=0.16.4 in c:\\users\\prash\\appdata\\local\\programs\\python\\python310\\lib\\site-packages (from tokenizers>=0.13.2->chromadb) (0.30.2)\n",
      "Requirement already satisfied: filelock in c:\\users\\prash\\appdata\\local\\programs\\python\\python310\\lib\\site-packages (from huggingface-hub<1.0,>=0.16.4->tokenizers>=0.13.2->chromadb) (3.18.0)\n",
      "Requirement already satisfied: fsspec>=2023.5.0 in c:\\users\\prash\\appdata\\local\\programs\\python\\python310\\lib\\site-packages (from huggingface-hub<1.0,>=0.16.4->tokenizers>=0.13.2->chromadb) (2025.3.2)\n",
      "Requirement already satisfied: click>=8.0.0 in c:\\users\\prash\\appdata\\local\\programs\\python\\python310\\lib\\site-packages (from typer>=0.9.0->chromadb) (8.1.8)\n",
      "Collecting shellingham>=1.3.0\n",
      "  Using cached shellingham-1.5.4-py2.py3-none-any.whl (9.8 kB)\n",
      "Collecting httptools>=0.6.3\n",
      "  Downloading httptools-0.6.4-cp310-cp310-win_amd64.whl (88 kB)\n",
      "Collecting websockets>=10.4\n",
      "  Downloading websockets-15.0.1-cp310-cp310-win_amd64.whl (176 kB)\n",
      "Requirement already satisfied: python-dotenv>=0.13 in c:\\users\\prash\\appdata\\local\\programs\\python\\python310\\lib\\site-packages (from uvicorn[standard]>=0.18.3->chromadb) (1.1.0)\n",
      "Collecting watchfiles>=0.13\n",
      "  Downloading watchfiles-1.1.0-cp310-cp310-win_amd64.whl (292 kB)\n",
      "Collecting sniffio>=1.1\n",
      "  Using cached sniffio-1.3.1-py3-none-any.whl (10 kB)\n",
      "Requirement already satisfied: exceptiongroup>=1.0.2 in c:\\users\\prash\\appdata\\roaming\\python\\python310\\site-packages (from anyio->httpx>=0.27.0->chromadb) (1.3.0)\n",
      "Collecting humanfriendly>=9.1\n",
      "  Downloading humanfriendly-10.0-py2.py3-none-any.whl (86 kB)\n",
      "Collecting pyreadline3\n",
      "  Downloading pyreadline3-3.5.4-py3-none-any.whl (83 kB)\n",
      "Requirement already satisfied: mpmath<1.4,>=1.1.0 in c:\\users\\prash\\appdata\\local\\programs\\python\\python310\\lib\\site-packages (from sympy->onnxruntime>=1.14.1->chromadb) (1.3.0)\n",
      "Building wheels for collected packages: pypika\n",
      "  Building wheel for pypika (PEP 517): started\n",
      "  Building wheel for pypika (PEP 517): finished with status 'done'\n",
      "  Created wheel for pypika: filename=pypika-0.48.9-py2.py3-none-any.whl size=53916 sha256=3eb45ed61477069721e2d3e186ad3425363bfc3566e241d32894486c10091a9e\n",
      "  Stored in directory: c:\\users\\prash\\appdata\\local\\pip\\cache\\wheels\\e1\\26\\51\\d0bffb3d2fd82256676d7ad3003faea3bd6dddc9577af665f4\n",
      "Successfully built pypika\n",
      "Installing collected packages: zipp, importlib-metadata, sniffio, rpds-py, pyreadline3, pyasn1, opentelemetry-api, rsa, referencing, pyasn1-modules, opentelemetry-semantic-conventions, opentelemetry-proto, oauthlib, humanfriendly, h11, cachetools, anyio, websockets, websocket-client, watchfiles, uvicorn, typing-inspection, tomli, shellingham, requests-oauthlib, pyproject-hooks, pydantic-core, opentelemetry-sdk, opentelemetry-exporter-otlp-proto-common, jsonschema-specifications, httptools, httpcore, googleapis-common-protos, google-auth, durationpy, distro, coloredlogs, annotated-types, typer, tenacity, pypika, pydantic, pybase64, posthog, overrides, orjson, opentelemetry-exporter-otlp-proto-grpc, onnxruntime, mmh3, kubernetes, jsonschema, importlib-resources, httpx, build, bcrypt, chromadb\n",
      "Successfully installed annotated-types-0.7.0 anyio-4.10.0 bcrypt-4.3.0 build-1.3.0 cachetools-5.5.2 chromadb-1.1.0 coloredlogs-15.0.1 distro-1.9.0 durationpy-0.10 google-auth-2.40.3 googleapis-common-protos-1.70.0 h11-0.16.0 httpcore-1.0.9 httptools-0.6.4 httpx-0.28.1 humanfriendly-10.0 importlib-metadata-8.7.0 importlib-resources-6.5.2 jsonschema-4.25.1 jsonschema-specifications-2025.9.1 kubernetes-33.1.0 mmh3-5.2.0 oauthlib-3.3.1 onnxruntime-1.22.1 opentelemetry-api-1.37.0 opentelemetry-exporter-otlp-proto-common-1.37.0 opentelemetry-exporter-otlp-proto-grpc-1.37.0 opentelemetry-proto-1.37.0 opentelemetry-sdk-1.37.0 opentelemetry-semantic-conventions-0.58b0 orjson-3.11.3 overrides-7.7.0 posthog-5.4.0 pyasn1-0.6.1 pyasn1-modules-0.4.2 pybase64-1.4.2 pydantic-2.11.9 pydantic-core-2.33.2 pypika-0.48.9 pyproject-hooks-1.2.0 pyreadline3-3.5.4 referencing-0.36.2 requests-oauthlib-2.0.0 rpds-py-0.27.1 rsa-4.9.1 shellingham-1.5.4 sniffio-1.3.1 tenacity-9.1.2 tomli-2.2.1 typer-0.19.1 typing-inspection-0.4.1 uvicorn-0.36.0 watchfiles-1.1.0 websocket-client-1.8.0 websockets-15.0.1 zipp-3.23.0\n"
     ]
    },
    {
     "name": "stderr",
     "output_type": "stream",
     "text": [
      "WARNING: You are using pip version 21.2.3; however, version 25.2 is available.\n",
      "You should consider upgrading via the 'C:\\Users\\prash\\AppData\\Local\\Programs\\Python\\Python310\\python.exe -m pip install --upgrade pip' command.\n"
     ]
    },
    {
     "name": "stdout",
     "output_type": "stream",
     "text": [
      "Collecting sentence-transformers\n",
      "  Downloading sentence_transformers-5.1.0-py3-none-any.whl (483 kB)\n",
      "Requirement already satisfied: Pillow in c:\\users\\prash\\appdata\\local\\programs\\python\\python310\\lib\\site-packages (from sentence-transformers) (11.1.0)\n",
      "Requirement already satisfied: huggingface-hub>=0.20.0 in c:\\users\\prash\\appdata\\local\\programs\\python\\python310\\lib\\site-packages (from sentence-transformers) (0.30.2)\n",
      "Requirement already satisfied: tqdm in c:\\users\\prash\\appdata\\local\\programs\\python\\python310\\lib\\site-packages (from sentence-transformers) (4.67.1)\n",
      "Requirement already satisfied: torch>=1.11.0 in c:\\users\\prash\\appdata\\local\\programs\\python\\python310\\lib\\site-packages (from sentence-transformers) (2.6.0)\n",
      "Requirement already satisfied: transformers<5.0.0,>=4.41.0 in c:\\users\\prash\\appdata\\local\\programs\\python\\python310\\lib\\site-packages (from sentence-transformers) (4.51.1)\n",
      "Requirement already satisfied: typing_extensions>=4.5.0 in c:\\users\\prash\\appdata\\local\\programs\\python\\python310\\lib\\site-packages (from sentence-transformers) (4.13.1)\n",
      "Requirement already satisfied: scikit-learn in c:\\users\\prash\\appdata\\local\\programs\\python\\python310\\lib\\site-packages (from sentence-transformers) (1.6.1)\n",
      "Requirement already satisfied: scipy in c:\\users\\prash\\appdata\\local\\programs\\python\\python310\\lib\\site-packages (from sentence-transformers) (1.15.2)\n",
      "Requirement already satisfied: packaging>=20.9 in c:\\users\\prash\\appdata\\local\\programs\\python\\python310\\lib\\site-packages (from huggingface-hub>=0.20.0->sentence-transformers) (24.2)\n",
      "Requirement already satisfied: filelock in c:\\users\\prash\\appdata\\local\\programs\\python\\python310\\lib\\site-packages (from huggingface-hub>=0.20.0->sentence-transformers) (3.18.0)\n",
      "Requirement already satisfied: requests in c:\\users\\prash\\appdata\\local\\programs\\python\\python310\\lib\\site-packages (from huggingface-hub>=0.20.0->sentence-transformers) (2.32.3)\n",
      "Requirement already satisfied: pyyaml>=5.1 in c:\\users\\prash\\appdata\\local\\programs\\python\\python310\\lib\\site-packages (from huggingface-hub>=0.20.0->sentence-transformers) (6.0.2)\n",
      "Requirement already satisfied: fsspec>=2023.5.0 in c:\\users\\prash\\appdata\\local\\programs\\python\\python310\\lib\\site-packages (from huggingface-hub>=0.20.0->sentence-transformers) (2025.3.2)\n",
      "Requirement already satisfied: jinja2 in c:\\users\\prash\\appdata\\local\\programs\\python\\python310\\lib\\site-packages (from torch>=1.11.0->sentence-transformers) (3.1.6)\n",
      "Requirement already satisfied: networkx in c:\\users\\prash\\appdata\\local\\programs\\python\\python310\\lib\\site-packages (from torch>=1.11.0->sentence-transformers) (3.4.2)\n",
      "Requirement already satisfied: sympy==1.13.1 in c:\\users\\prash\\appdata\\local\\programs\\python\\python310\\lib\\site-packages (from torch>=1.11.0->sentence-transformers) (1.13.1)\n",
      "Requirement already satisfied: mpmath<1.4,>=1.1.0 in c:\\users\\prash\\appdata\\local\\programs\\python\\python310\\lib\\site-packages (from sympy==1.13.1->torch>=1.11.0->sentence-transformers) (1.3.0)\n",
      "Requirement already satisfied: colorama in c:\\users\\prash\\appdata\\local\\programs\\python\\python310\\lib\\site-packages (from tqdm->sentence-transformers) (0.4.6)\n",
      "Requirement already satisfied: numpy>=1.17 in c:\\users\\prash\\appdata\\local\\programs\\python\\python310\\lib\\site-packages (from transformers<5.0.0,>=4.41.0->sentence-transformers) (2.1.3)\n",
      "Requirement already satisfied: tokenizers<0.22,>=0.21 in c:\\users\\prash\\appdata\\local\\programs\\python\\python310\\lib\\site-packages (from transformers<5.0.0,>=4.41.0->sentence-transformers) (0.21.1)\n",
      "Requirement already satisfied: safetensors>=0.4.3 in c:\\users\\prash\\appdata\\local\\programs\\python\\python310\\lib\\site-packages (from transformers<5.0.0,>=4.41.0->sentence-transformers) (0.5.3)\n",
      "Requirement already satisfied: regex!=2019.12.17 in c:\\users\\prash\\appdata\\local\\programs\\python\\python310\\lib\\site-packages (from transformers<5.0.0,>=4.41.0->sentence-transformers) (2024.11.6)\n",
      "Requirement already satisfied: MarkupSafe>=2.0 in c:\\users\\prash\\appdata\\local\\programs\\python\\python310\\lib\\site-packages (from jinja2->torch>=1.11.0->sentence-transformers) (3.0.2)\n",
      "Requirement already satisfied: urllib3<3,>=1.21.1 in c:\\users\\prash\\appdata\\local\\programs\\python\\python310\\lib\\site-packages (from requests->huggingface-hub>=0.20.0->sentence-transformers) (2.3.0)\n",
      "Requirement already satisfied: certifi>=2017.4.17 in c:\\users\\prash\\appdata\\local\\programs\\python\\python310\\lib\\site-packages (from requests->huggingface-hub>=0.20.0->sentence-transformers) (2025.1.31)\n",
      "Requirement already satisfied: charset-normalizer<4,>=2 in c:\\users\\prash\\appdata\\local\\programs\\python\\python310\\lib\\site-packages (from requests->huggingface-hub>=0.20.0->sentence-transformers) (3.4.1)\n",
      "Requirement already satisfied: idna<4,>=2.5 in c:\\users\\prash\\appdata\\local\\programs\\python\\python310\\lib\\site-packages (from requests->huggingface-hub>=0.20.0->sentence-transformers) (3.10)\n",
      "Requirement already satisfied: threadpoolctl>=3.1.0 in c:\\users\\prash\\appdata\\local\\programs\\python\\python310\\lib\\site-packages (from scikit-learn->sentence-transformers) (3.6.0)\n",
      "Requirement already satisfied: joblib>=1.2.0 in c:\\users\\prash\\appdata\\local\\programs\\python\\python310\\lib\\site-packages (from scikit-learn->sentence-transformers) (1.4.2)\n",
      "Installing collected packages: sentence-transformers\n",
      "Successfully installed sentence-transformers-5.1.0\n"
     ]
    },
    {
     "name": "stderr",
     "output_type": "stream",
     "text": [
      "WARNING: You are using pip version 21.2.3; however, version 25.2 is available.\n",
      "You should consider upgrading via the 'C:\\Users\\prash\\AppData\\Local\\Programs\\Python\\Python310\\python.exe -m pip install --upgrade pip' command.\n"
     ]
    },
    {
     "name": "stdout",
     "output_type": "stream",
     "text": [
      "Requirement already satisfied: transformers in c:\\users\\prash\\appdata\\local\\programs\\python\\python310\\lib\\site-packages (4.51.1)\n",
      "Requirement already satisfied: torch in c:\\users\\prash\\appdata\\local\\programs\\python\\python310\\lib\\site-packages (2.6.0)\n",
      "Requirement already satisfied: regex!=2019.12.17 in c:\\users\\prash\\appdata\\local\\programs\\python\\python310\\lib\\site-packages (from transformers) (2024.11.6)\n",
      "Requirement already satisfied: requests in c:\\users\\prash\\appdata\\local\\programs\\python\\python310\\lib\\site-packages (from transformers) (2.32.3)\n",
      "Requirement already satisfied: tokenizers<0.22,>=0.21 in c:\\users\\prash\\appdata\\local\\programs\\python\\python310\\lib\\site-packages (from transformers) (0.21.1)\n",
      "Requirement already satisfied: safetensors>=0.4.3 in c:\\users\\prash\\appdata\\local\\programs\\python\\python310\\lib\\site-packages (from transformers) (0.5.3)\n",
      "Requirement already satisfied: filelock in c:\\users\\prash\\appdata\\local\\programs\\python\\python310\\lib\\site-packages (from transformers) (3.18.0)\n",
      "Requirement already satisfied: numpy>=1.17 in c:\\users\\prash\\appdata\\local\\programs\\python\\python310\\lib\\site-packages (from transformers) (2.1.3)\n",
      "Requirement already satisfied: packaging>=20.0 in c:\\users\\prash\\appdata\\local\\programs\\python\\python310\\lib\\site-packages (from transformers) (24.2)\n",
      "Requirement already satisfied: tqdm>=4.27 in c:\\users\\prash\\appdata\\local\\programs\\python\\python310\\lib\\site-packages (from transformers) (4.67.1)\n",
      "Requirement already satisfied: huggingface-hub<1.0,>=0.30.0 in c:\\users\\prash\\appdata\\local\\programs\\python\\python310\\lib\\site-packages (from transformers) (0.30.2)\n",
      "Requirement already satisfied: pyyaml>=5.1 in c:\\users\\prash\\appdata\\local\\programs\\python\\python310\\lib\\site-packages (from transformers) (6.0.2)\n",
      "Requirement already satisfied: sympy==1.13.1 in c:\\users\\prash\\appdata\\local\\programs\\python\\python310\\lib\\site-packages (from torch) (1.13.1)\n",
      "Requirement already satisfied: fsspec in c:\\users\\prash\\appdata\\local\\programs\\python\\python310\\lib\\site-packages (from torch) (2025.3.2)\n",
      "Requirement already satisfied: networkx in c:\\users\\prash\\appdata\\local\\programs\\python\\python310\\lib\\site-packages (from torch) (3.4.2)\n",
      "Requirement already satisfied: typing-extensions>=4.10.0 in c:\\users\\prash\\appdata\\local\\programs\\python\\python310\\lib\\site-packages (from torch) (4.13.1)\n",
      "Requirement already satisfied: jinja2 in c:\\users\\prash\\appdata\\local\\programs\\python\\python310\\lib\\site-packages (from torch) (3.1.6)\n",
      "Requirement already satisfied: mpmath<1.4,>=1.1.0 in c:\\users\\prash\\appdata\\local\\programs\\python\\python310\\lib\\site-packages (from sympy==1.13.1->torch) (1.3.0)\n",
      "Requirement already satisfied: colorama in c:\\users\\prash\\appdata\\local\\programs\\python\\python310\\lib\\site-packages (from tqdm>=4.27->transformers) (0.4.6)\n",
      "Requirement already satisfied: MarkupSafe>=2.0 in c:\\users\\prash\\appdata\\local\\programs\\python\\python310\\lib\\site-packages (from jinja2->torch) (3.0.2)\n",
      "Requirement already satisfied: idna<4,>=2.5 in c:\\users\\prash\\appdata\\local\\programs\\python\\python310\\lib\\site-packages (from requests->transformers) (3.10)\n",
      "Requirement already satisfied: charset-normalizer<4,>=2 in c:\\users\\prash\\appdata\\local\\programs\\python\\python310\\lib\\site-packages (from requests->transformers) (3.4.1)\n",
      "Requirement already satisfied: urllib3<3,>=1.21.1 in c:\\users\\prash\\appdata\\local\\programs\\python\\python310\\lib\\site-packages (from requests->transformers) (2.3.0)\n",
      "Requirement already satisfied: certifi>=2017.4.17 in c:\\users\\prash\\appdata\\local\\programs\\python\\python310\\lib\\site-packages (from requests->transformers) (2025.1.31)\n"
     ]
    },
    {
     "name": "stderr",
     "output_type": "stream",
     "text": [
      "WARNING: You are using pip version 21.2.3; however, version 25.2 is available.\n",
      "You should consider upgrading via the 'C:\\Users\\prash\\AppData\\Local\\Programs\\Python\\Python310\\python.exe -m pip install --upgrade pip' command.\n"
     ]
    }
   ],
   "source": [
    "!pip install chromadb\n",
    "!pip install sentence-transformers\n",
    "!pip install transformers torch"
   ]
  },
  {
   "cell_type": "markdown",
   "id": "135ecf48",
   "metadata": {},
   "source": [
    "##### 1️⃣ Install required packages (run once in your environment)\n",
    "##### pip install pandas sentence-transformers transformers torch chromadb"
   ]
  },
  {
   "cell_type": "code",
   "execution_count": 3,
   "id": "790f7597",
   "metadata": {},
   "outputs": [
    {
     "name": "stderr",
     "output_type": "stream",
     "text": [
      "c:\\Users\\prash\\AppData\\Local\\Programs\\Python\\Python310\\lib\\site-packages\\tqdm\\auto.py:21: TqdmWarning: IProgress not found. Please update jupyter and ipywidgets. See https://ipywidgets.readthedocs.io/en/stable/user_install.html\n",
      "  from .autonotebook import tqdm as notebook_tqdm\n"
     ]
    },
    {
     "name": "stdout",
     "output_type": "stream",
     "text": [
      "WARNING:tensorflow:From c:\\Users\\prash\\AppData\\Local\\Programs\\Python\\Python310\\lib\\site-packages\\tf_keras\\src\\losses.py:2976: The name tf.losses.sparse_softmax_cross_entropy is deprecated. Please use tf.compat.v1.losses.sparse_softmax_cross_entropy instead.\n",
      "\n"
     ]
    }
   ],
   "source": [
    "import pandas as pd\n",
    "import re\n",
    "import json\n",
    "import numpy as np\n",
    "import chromadb\n",
    "from chromadb.utils import embedding_functions\n",
    "from sentence_transformers import SentenceTransformer\n",
    "from transformers import AutoTokenizer, AutoModelForSeq2SeqLM, pipeline\n",
    "import torch"
   ]
  },
  {
   "cell_type": "code",
   "execution_count": 5,
   "id": "29f8da39",
   "metadata": {},
   "outputs": [],
   "source": [
    "# --------------------------\n",
    "# 2️⃣ Load and clean CSV\n",
    "# --------------------------\n",
    "df = pd.read_csv(\"Constitution Of India.csv\")\n",
    "text_col = \"Articles\"\n",
    "\n",
    "def clean_text(t):\n",
    "    if pd.isna(t):\n",
    "        return \"\"\n",
    "    s = str(t)\n",
    "    s = s.replace(\"\\n\", \" \").replace(\"\\t\", \" \")\n",
    "    s = re.sub(r\"\\s+\", \" \", s)\n",
    "    s = re.sub(r\"http\\S+|www\\.\\S+\", \" \", s)\n",
    "    s = re.sub(r\"\\S+@\\S+\", \" \", s)\n",
    "    return s.strip()\n",
    "\n",
    "df[\"clean_text\"] = df[text_col].apply(clean_text)\n",
    "df = df[df[\"clean_text\"].str.len() > 30]"
   ]
  },
  {
   "cell_type": "code",
   "execution_count": 6,
   "id": "11854253",
   "metadata": {},
   "outputs": [
    {
     "name": "stdout",
     "output_type": "stream",
     "text": [
      "Total chunks: 698\n"
     ]
    }
   ],
   "source": [
    "# --------------------------\n",
    "# 3️⃣ Chunk the text\n",
    "# --------------------------\n",
    "def chunk_text(text, max_chars=1000, overlap=200):\n",
    "    chunks = []\n",
    "    start = 0\n",
    "    while start < len(text):\n",
    "        end = min(start + max_chars, len(text))\n",
    "        chunks.append(text[start:end])\n",
    "        if end == len(text):\n",
    "            break\n",
    "        start = end - overlap\n",
    "    return chunks\n",
    "\n",
    "all_chunks = []\n",
    "for row in df[\"clean_text\"]:\n",
    "    all_chunks.extend(chunk_text(row))\n",
    "\n",
    "print(\"Total chunks:\", len(all_chunks))\n",
    "\n",
    "# Save chunks locally (optional)\n",
    "with open(\"chunks_data.json\", \"w\", encoding=\"utf-8\") as f:\n",
    "    json.dump(all_chunks, f, indent=2, ensure_ascii=False)"
   ]
  },
  {
   "cell_type": "code",
   "execution_count": 7,
   "id": "a970bb70",
   "metadata": {},
   "outputs": [
    {
     "name": "stderr",
     "output_type": "stream",
     "text": [
      "c:\\Users\\prash\\AppData\\Local\\Programs\\Python\\Python310\\lib\\site-packages\\huggingface_hub\\file_download.py:144: UserWarning: `huggingface_hub` cache-system uses symlinks by default to efficiently store duplicated files but your machine does not support them in C:\\Users\\prash\\.cache\\huggingface\\hub\\models--sentence-transformers--all-MiniLM-L6-v2. Caching files will still work but in a degraded version that might require more space on your disk. This warning can be disabled by setting the `HF_HUB_DISABLE_SYMLINKS_WARNING` environment variable. For more details, see https://huggingface.co/docs/huggingface_hub/how-to-cache#limitations.\n",
      "To support symlinks on Windows, you either need to activate Developer Mode or to run Python as an administrator. In order to activate developer mode, see this article: https://docs.microsoft.com/en-us/windows/apps/get-started/enable-your-device-for-development\n",
      "  warnings.warn(message)\n",
      "Xet Storage is enabled for this repo, but the 'hf_xet' package is not installed. Falling back to regular HTTP download. For better performance, install the package with: `pip install huggingface_hub[hf_xet]` or `pip install hf_xet`\n",
      "Batches: 100%|██████████| 22/22 [00:11<00:00,  1.92it/s]"
     ]
    },
    {
     "name": "stdout",
     "output_type": "stream",
     "text": [
      "✅ Chunks and embeddings saved!\n"
     ]
    },
    {
     "name": "stderr",
     "output_type": "stream",
     "text": [
      "\n"
     ]
    }
   ],
   "source": [
    "# --------------------------\n",
    "# 4️⃣ Embed chunks\n",
    "# --------------------------\n",
    "embedder = SentenceTransformer(\"sentence-transformers/all-MiniLM-L6-v2\")\n",
    "embeddings = embedder.encode(all_chunks, convert_to_numpy=True, show_progress_bar=True)\n",
    "embeddings = embeddings / np.linalg.norm(embeddings, axis=1, keepdims=True)  # normalize\n",
    "np.save(\"embeddings.npy\", embeddings)\n",
    "print(\"✅ Chunks and embeddings saved!\")"
   ]
  },
  {
   "cell_type": "code",
   "execution_count": 8,
   "id": "03dc02ee",
   "metadata": {},
   "outputs": [
    {
     "name": "stdout",
     "output_type": "stream",
     "text": [
      "✅ Added 300 chunks to ChromaDB!\n"
     ]
    }
   ],
   "source": [
    "# --------------------------\n",
    "# 5️⃣ Upload to ChromaDB (free-tier safe)\n",
    "# --------------------------\n",
    "client = chromadb.CloudClient(\n",
    "  api_key='ck-8ogrFSdCtYH9Bxh9mZ7A4dMsGbdQ2zp3VrLKNeHrfirE',\n",
    "  tenant='f9ac33d4-f162-4b85-b38d-1c8b719366e6',\n",
    "  database='VECDB'\n",
    ")\n",
    "\n",
    "collection_name = \"constitution_articles\"\n",
    "if collection_name in [c.name for c in client.list_collections()]:\n",
    "    collection = client.get_collection(name=collection_name)\n",
    "else:\n",
    "    collection = client.create_collection(name=collection_name)\n",
    "\n",
    "MAX_RECORDS = 300  # free-tier limit\n",
    "batch_chunks = all_chunks[:MAX_RECORDS]\n",
    "batch_embeddings = embeddings[:MAX_RECORDS].tolist()\n",
    "batch_ids = [str(i) for i in range(len(batch_chunks))]\n",
    "batch_metadatas = [{\"source\": f\"chunk_{i}\"} for i in range(len(batch_chunks))]\n",
    "\n",
    "collection.add(\n",
    "    documents=batch_chunks,\n",
    "    embeddings=batch_embeddings,\n",
    "    ids=batch_ids,\n",
    "    metadatas=batch_metadatas\n",
    ")\n",
    "print(f\"✅ Added {len(batch_chunks)} chunks to ChromaDB!\")"
   ]
  },
  {
   "cell_type": "code",
   "execution_count": 9,
   "id": "1b4a903c",
   "metadata": {},
   "outputs": [
    {
     "name": "stderr",
     "output_type": "stream",
     "text": [
      "c:\\Users\\prash\\AppData\\Local\\Programs\\Python\\Python310\\lib\\site-packages\\huggingface_hub\\file_download.py:144: UserWarning: `huggingface_hub` cache-system uses symlinks by default to efficiently store duplicated files but your machine does not support them in C:\\Users\\prash\\.cache\\huggingface\\hub\\models--google--flan-t5-base. Caching files will still work but in a degraded version that might require more space on your disk. This warning can be disabled by setting the `HF_HUB_DISABLE_SYMLINKS_WARNING` environment variable. For more details, see https://huggingface.co/docs/huggingface_hub/how-to-cache#limitations.\n",
      "To support symlinks on Windows, you either need to activate Developer Mode or to run Python as an administrator. In order to activate developer mode, see this article: https://docs.microsoft.com/en-us/windows/apps/get-started/enable-your-device-for-development\n",
      "  warnings.warn(message)\n",
      "Xet Storage is enabled for this repo, but the 'hf_xet' package is not installed. Falling back to regular HTTP download. For better performance, install the package with: `pip install huggingface_hub[hf_xet]` or `pip install hf_xet`\n",
      "Xet Storage is enabled for this repo, but the 'hf_xet' package is not installed. Falling back to regular HTTP download. For better performance, install the package with: `pip install huggingface_hub[hf_xet]` or `pip install hf_xet`\n",
      "Device set to use cpu\n"
     ]
    }
   ],
   "source": [
    "# --------------------------\n",
    "# 6️⃣ Load FLAN-T5 for QA (PyTorch, no ONNX)\n",
    "# --------------------------\n",
    "model_name = \"google/flan-t5-base\"\n",
    "tokenizer = AutoTokenizer.from_pretrained(model_name)\n",
    "model = AutoModelForSeq2SeqLM.from_pretrained(model_name)\n",
    "device = 0 if torch.cuda.is_available() else -1\n",
    "\n",
    "qa_pipeline = pipeline(\n",
    "    \"text2text-generation\",\n",
    "    model=model,\n",
    "    tokenizer=tokenizer,\n",
    "    device=device,\n",
    "    framework=\"pt\"  # force PyTorch\n",
    ")"
   ]
  },
  {
   "cell_type": "code",
   "execution_count": 10,
   "id": "560c45e6",
   "metadata": {},
   "outputs": [],
   "source": [
    "# --------------------------\n",
    "# 7️⃣ Query functions\n",
    "# --------------------------\n",
    "def retrieve(query, top_k=5):\n",
    "    results = collection.query(query_texts=[query], n_results=top_k)\n",
    "    docs = results.get('documents', [[]])[0]  # safe access\n",
    "    if not docs:\n",
    "        return [\"No relevant context found.\"]\n",
    "    return docs\n",
    "\n",
    "def answer_question(question, top_k=5):\n",
    "    retrieved = retrieve(question, top_k)\n",
    "    context = \"\\n\\n\".join(retrieved)\n",
    "    prompt = f\"Context: {context}\\n\\nQuestion: {question}\\n\\nAnswer:\"\n",
    "    result = qa_pipeline(prompt, max_length=256, do_sample=False)\n",
    "    return result[0][\"generated_text\"], retrieved"
   ]
  },
  {
   "cell_type": "code",
   "execution_count": 12,
   "id": "eba5ccc4",
   "metadata": {},
   "outputs": [
    {
     "name": "stdout",
     "output_type": "stream",
     "text": [
      "\n",
      "✅ Constitution QA system ready! Type your question (type 'exit' to quit).\n"
     ]
    },
    {
     "name": "stderr",
     "output_type": "stream",
     "text": [
      "C:\\Users\\prash\\.cache\\chroma\\onnx_models\\all-MiniLM-L6-v2\\onnx.tar.gz: 100%|██████████| 79.3M/79.3M [01:21<00:00, 1.02MiB/s]\n",
      "Token indices sequence length is longer than the specified maximum sequence length for this model (636 > 512). Running this sequence through the model will result in indexing errors\n"
     ]
    },
    {
     "name": "stdout",
     "output_type": "stream",
     "text": [
      "\n",
      "Answer: All laws in force in the territory of India immediately before the commencement of this Constitution and not previously repealed\n",
      "\n",
      "--- Retrieved Context ---\n",
      "147. Interpretation In this Chapter and in Chapter V of Part VI references to any substantial question of law as to the interpretation of this Constitution shall be construed as including references to any substantial question of law as to the interpretation of the Government of India Act, 1935 (inc ...\n",
      "\n",
      "ory of India before the commencement of this Constitution and not previously repealed, notwithstanding that any such law or any part thereof may not be then in operation either at all or in particular areas (4) Nothing in this article shall apply to any amendment of this Constitution made under Arti ...\n",
      "\n",
      "13. Laws inconsistent with or in derogation of the fundamental rights (1) All laws in force in the territory of India immediately before the commencement of this Constitution, in so far as they are inconsistent with the provisions of this Part, shall, to the extent of such inconsistency, be void (2) ...\n",
      "\n",
      "141. Law declared by Supreme Court to be binding on all courts The law declared by the Supreme Court shall be binding on all courts within the territory of India ...\n",
      "\n",
      "131. Original jurisdiction of the Supreme Court Subject to the provisions of this Constitution, the Supreme Court shall, to the exclusion of any other court, have original jurisdiction in any dispute (a) between the Government of India and one or more States; or (b) between the Government of India a ...\n",
      "\n",
      "\n",
      "Answer: What is the most important rule of the Constitution?\n",
      "\n",
      "--- Retrieved Context ---\n",
      "akes, rivers and wild life, and to have compassion for living creatures; (h) to develop the scientific temper, humanism and the spirit of inquiry and reform; (i) to safeguard public property and to abjure violence; (j) to strive towards excellence in all spheres of individual and collective activity ...\n",
      "\n",
      "159. Oath or affirmation by Governor Every Governor and every person discharging the functions of the Governor shall, before entering upon his office, make and subscribe in the presence of the chief Justice of the High Court exercising jurisdiction in relation to the State, or, in his absence, the s ...\n",
      "\n",
      "38. State to secure a social order for the promotion of welfare of the people (1) The State shall strive to promote the welfare of the people by securing and protecting as effectively as it may a social order in which justice, social, economic and political, shall inform all the institutions of the  ...\n",
      "\n",
      "175. Right of Governor to address and send messages to the House or Houses (1) The Governor may address the Legislative Assembly or, in the case of a State having a Legislative Council, either House of the Legislature of the State, or both Houses assembled together, and may for that purpose require  ...\n",
      "\n",
      "99. Oath or affirmation by members Every member of either House of Parliament shall, before taking his seat, make and subscribe before the President, or some person appointed in that behalf by him, an oath or affirmation according to the form set out for the purpose in the Third Schedule ...\n",
      "\n",
      "\n",
      "Answer: What is the most important rule of the Constitution?\n",
      "\n",
      "--- Retrieved Context ---\n",
      "akes, rivers and wild life, and to have compassion for living creatures; (h) to develop the scientific temper, humanism and the spirit of inquiry and reform; (i) to safeguard public property and to abjure violence; (j) to strive towards excellence in all spheres of individual and collective activity ...\n",
      "\n",
      "159. Oath or affirmation by Governor Every Governor and every person discharging the functions of the Governor shall, before entering upon his office, make and subscribe in the presence of the chief Justice of the High Court exercising jurisdiction in relation to the State, or, in his absence, the s ...\n",
      "\n",
      "38. State to secure a social order for the promotion of welfare of the people (1) The State shall strive to promote the welfare of the people by securing and protecting as effectively as it may a social order in which justice, social, economic and political, shall inform all the institutions of the  ...\n",
      "\n",
      "175. Right of Governor to address and send messages to the House or Houses (1) The Governor may address the Legislative Assembly or, in the case of a State having a Legislative Council, either House of the Legislature of the State, or both Houses assembled together, and may for that purpose require  ...\n",
      "\n",
      "99. Oath or affirmation by members Every member of either House of Parliament shall, before taking his seat, make and subscribe before the President, or some person appointed in that behalf by him, an oath or affirmation according to the form set out for the purpose in the Third Schedule ...\n",
      "\n",
      "\n",
      "Answer: What is the most important rule of the Constitution?\n",
      "\n",
      "--- Retrieved Context ---\n",
      "akes, rivers and wild life, and to have compassion for living creatures; (h) to develop the scientific temper, humanism and the spirit of inquiry and reform; (i) to safeguard public property and to abjure violence; (j) to strive towards excellence in all spheres of individual and collective activity ...\n",
      "\n",
      "159. Oath or affirmation by Governor Every Governor and every person discharging the functions of the Governor shall, before entering upon his office, make and subscribe in the presence of the chief Justice of the High Court exercising jurisdiction in relation to the State, or, in his absence, the s ...\n",
      "\n",
      "38. State to secure a social order for the promotion of welfare of the people (1) The State shall strive to promote the welfare of the people by securing and protecting as effectively as it may a social order in which justice, social, economic and political, shall inform all the institutions of the  ...\n",
      "\n",
      "175. Right of Governor to address and send messages to the House or Houses (1) The Governor may address the Legislative Assembly or, in the case of a State having a Legislative Council, either House of the Legislature of the State, or both Houses assembled together, and may for that purpose require  ...\n",
      "\n",
      "99. Oath or affirmation by members Every member of either House of Parliament shall, before taking his seat, make and subscribe before the President, or some person appointed in that behalf by him, an oath or affirmation according to the form set out for the purpose in the Third Schedule ...\n",
      "\n",
      "\n",
      "Answer: What is the most important rule of the Constitution?\n",
      "\n",
      "--- Retrieved Context ---\n",
      "akes, rivers and wild life, and to have compassion for living creatures; (h) to develop the scientific temper, humanism and the spirit of inquiry and reform; (i) to safeguard public property and to abjure violence; (j) to strive towards excellence in all spheres of individual and collective activity ...\n",
      "\n",
      "159. Oath or affirmation by Governor Every Governor and every person discharging the functions of the Governor shall, before entering upon his office, make and subscribe in the presence of the chief Justice of the High Court exercising jurisdiction in relation to the State, or, in his absence, the s ...\n",
      "\n",
      "38. State to secure a social order for the promotion of welfare of the people (1) The State shall strive to promote the welfare of the people by securing and protecting as effectively as it may a social order in which justice, social, economic and political, shall inform all the institutions of the  ...\n",
      "\n",
      "175. Right of Governor to address and send messages to the House or Houses (1) The Governor may address the Legislative Assembly or, in the case of a State having a Legislative Council, either House of the Legislature of the State, or both Houses assembled together, and may for that purpose require  ...\n",
      "\n",
      "99. Oath or affirmation by members Every member of either House of Parliament shall, before taking his seat, make and subscribe before the President, or some person appointed in that behalf by him, an oath or affirmation according to the form set out for the purpose in the Third Schedule ...\n",
      "\n"
     ]
    }
   ],
   "source": [
    "# --------------------------\n",
    "# 8️⃣ Interactive QA loop\n",
    "# --------------------------\n",
    "print(\"\\n✅ Constitution QA system ready! Type your question (type 'exit' to quit).\")\n",
    "while True:\n",
    "    q = input(\"\\nQuestion: \")\n",
    "    if q.lower() in [\"exit\", \"quit\"]:\n",
    "        break\n",
    "    ans, ctx = answer_question(q)\n",
    "    print(\"\\nAnswer:\", ans)\n",
    "    print(\"\\n--- Retrieved Context ---\")\n",
    "    for c in ctx:\n",
    "        print(c[:300], \"...\\n\")"
   ]
  },
  {
   "cell_type": "code",
   "execution_count": null,
   "id": "ba1c4719",
   "metadata": {},
   "outputs": [],
   "source": []
  },
  {
   "cell_type": "code",
   "execution_count": null,
   "id": "76213ae1",
   "metadata": {},
   "outputs": [],
   "source": []
  },
  {
   "cell_type": "code",
   "execution_count": null,
   "id": "b7a2829e",
   "metadata": {},
   "outputs": [],
   "source": []
  },
  {
   "cell_type": "code",
   "execution_count": null,
   "id": "098e3230",
   "metadata": {},
   "outputs": [],
   "source": []
  },
  {
   "cell_type": "code",
   "execution_count": null,
   "id": "f9fbb191",
   "metadata": {},
   "outputs": [],
   "source": []
  },
  {
   "cell_type": "code",
   "execution_count": null,
   "id": "a4efa654",
   "metadata": {},
   "outputs": [],
   "source": []
  },
  {
   "cell_type": "code",
   "execution_count": null,
   "id": "6978d782",
   "metadata": {},
   "outputs": [],
   "source": []
  },
  {
   "cell_type": "code",
   "execution_count": null,
   "id": "04c2b8e7",
   "metadata": {},
   "outputs": [],
   "source": []
  },
  {
   "cell_type": "code",
   "execution_count": null,
   "id": "3f581f4d",
   "metadata": {},
   "outputs": [],
   "source": []
  },
  {
   "cell_type": "code",
   "execution_count": null,
   "id": "84df7ec1",
   "metadata": {},
   "outputs": [],
   "source": []
  },
  {
   "cell_type": "code",
   "execution_count": null,
   "id": "7a4760e2",
   "metadata": {},
   "outputs": [],
   "source": []
  },
  {
   "cell_type": "code",
   "execution_count": null,
   "id": "db6b0d80",
   "metadata": {},
   "outputs": [],
   "source": []
  },
  {
   "cell_type": "code",
   "execution_count": null,
   "id": "5b783ba2",
   "metadata": {},
   "outputs": [],
   "source": []
  }
 ],
 "metadata": {
  "kernelspec": {
   "display_name": "Python 3",
   "language": "python",
   "name": "python3"
  },
  "language_info": {
   "codemirror_mode": {
    "name": "ipython",
    "version": 3
   },
   "file_extension": ".py",
   "mimetype": "text/x-python",
   "name": "python",
   "nbconvert_exporter": "python",
   "pygments_lexer": "ipython3",
   "version": "3.10.0"
  }
 },
 "nbformat": 4,
 "nbformat_minor": 5
}
